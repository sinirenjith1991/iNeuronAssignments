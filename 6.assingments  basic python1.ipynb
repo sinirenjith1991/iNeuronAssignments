{
 "cells": [
  {
   "cell_type": "code",
   "execution_count": null,
   "id": "37d9b5e5",
   "metadata": {},
   "outputs": [],
   "source": [
    "Q.1. What are keywords in python? Using the keyword library, print all the python keywords.\n",
    "Q.2. What are the rules to create variables in python?\n",
    "Q.3. What are the standards and conventions followed for the nomenclature of variables in\n",
    "python to improve code readability and maintainability?\n",
    "Q.4. What will happen if a keyword is used as a variable name?\n",
    "Q.5. For what purpose def keyword is used?\n",
    "Q.6. What is the operation of this special character ‘\\’?\n",
    "Q.7. Give an example of the following conditions:\n",
    "(i) Homogeneous list\n",
    "(ii)Heterogeneous set\n",
    "(iii) Homogeneous tuple\n",
    "Q.8. Explain the mutable and immutable data types with proper explanation & examples.\n",
    "Q.9. Write a code to create the given structure using only for loop.\n",
    "*\n",
    "\n",
    "*****\n",
    "*******\n",
    "*********\n",
    "Q.10. Write a code to create the given structure using while loop.\n",
    "|||||||||  \n",
    "|||||||\n",
    "|||||\n",
    "|||\n",
    "|"
   ]
  },
  {
   "cell_type": "markdown",
   "id": "c28c4078",
   "metadata": {},
   "source": [
    "# Question 1"
   ]
  },
  {
   "cell_type": "markdown",
   "id": "a703d7e2",
   "metadata": {},
   "source": [
    "Q.1. What are keywords in python? Using the keyword library, print all the python keywords.\n"
   ]
  },
  {
   "cell_type": "code",
   "execution_count": 2,
   "id": "58615eb7",
   "metadata": {},
   "outputs": [
    {
     "name": "stdout",
     "output_type": "stream",
     "text": [
      "['False', 'None', 'True', 'and', 'as', 'assert', 'async', 'await', 'break', 'class', 'continue', 'def', 'del', 'elif', 'else', 'except', 'finally', 'for', 'from', 'global', 'if', 'import', 'in', 'is', 'lambda', 'nonlocal', 'not', 'or', 'pass', 'raise', 'return', 'try', 'while', 'with', 'yield']\n"
     ]
    }
   ],
   "source": [
    "import keyword\n",
    "print(keyword.kwlist)"
   ]
  },
  {
   "cell_type": "markdown",
   "id": "b4cf6110",
   "metadata": {},
   "source": [
    "# Question 2"
   ]
  },
  {
   "cell_type": "markdown",
   "id": "e881c69b",
   "metadata": {},
   "source": [
    "Q.2. What are the rules to create variables in python?"
   ]
  },
  {
   "cell_type": "code",
   "execution_count": null,
   "id": "c67e1c0f",
   "metadata": {},
   "outputs": [],
   "source": [
    "\"\"\"\"\n",
    "In python ,variables are created and assingned values using a simple sytax, Variable name can contain letters ,digits and \n",
    "underscore. Variable names must  start with a letter or an underscore(_). They cannot start with a number or any other \n",
    "special character and Python keywords cannot be used as variable names\n",
    "                                                                             \"\"\"\""
   ]
  },
  {
   "cell_type": "markdown",
   "id": "7f0a1f03",
   "metadata": {},
   "source": [
    "# Question 3"
   ]
  },
  {
   "cell_type": "markdown",
   "id": "13f04442",
   "metadata": {},
   "source": [
    "Q.3. What are the standards and conventions followed for the nomenclature of variables in\n",
    "python to improve code readability and maintainability?"
   ]
  },
  {
   "cell_type": "code",
   "execution_count": null,
   "id": "5897e52e",
   "metadata": {},
   "outputs": [],
   "source": [
    "- Variable should not be a keyword\n",
    "- Varible name should start with a letter or '_'\n",
    "- use more meaningful name to convey the intention of the variable,for eg:-car_inventory"
   ]
  },
  {
   "cell_type": "markdown",
   "id": "9a6e73e6",
   "metadata": {},
   "source": [
    "# Question 4"
   ]
  },
  {
   "cell_type": "markdown",
   "id": "a7b43691",
   "metadata": {},
   "source": [
    "Q.4. What will happen if a keyword is used as a variable name?"
   ]
  },
  {
   "cell_type": "code",
   "execution_count": null,
   "id": "b26d23d9",
   "metadata": {},
   "outputs": [],
   "source": [
    "\n",
    "- If a keyword is used as a variable name it will result in a sytax error,keywords can not be used as variaable names\n",
    "- Keywords are the words in programming language which have a special meaning decided the lanuage. "
   ]
  },
  {
   "cell_type": "markdown",
   "id": "fafd2767",
   "metadata": {},
   "source": [
    "# Quesyion 5"
   ]
  },
  {
   "cell_type": "markdown",
   "id": "203c9e2f",
   "metadata": {},
   "source": [
    "Q.5. For what purpose def keyword is used?"
   ]
  },
  {
   "cell_type": "raw",
   "id": "19688d09",
   "metadata": {},
   "source": [
    "- The 'def' keyword is used to define user- defined function ,it is a resrved  keyword in python.\n",
    "- By using the 'def' keyword, user can create a own functions ,it indicate the beginning of a function definition.\n"
   ]
  },
  {
   "cell_type": "markdown",
   "id": "9b399bc3",
   "metadata": {},
   "source": [
    "# Question 6"
   ]
  },
  {
   "cell_type": "markdown",
   "id": "ecaef507",
   "metadata": {},
   "source": [
    "Q.6. What is the operation of this special character ‘\\’?"
   ]
  },
  {
   "cell_type": "markdown",
   "id": "162c4b71",
   "metadata": {},
   "source": [
    "\n",
    "- The backslash \\ is a special character, also called the \"escape\" character.It is used in representing certain whitespace characters:\n",
    "- \"\\t\" is a tab,\n",
    "- \"\\n\" is a newline, and\n",
    "- \"\\r\" is a carriage return. "
   ]
  },
  {
   "cell_type": "markdown",
   "id": "1f2fed8d",
   "metadata": {},
   "source": [
    "# Question 7"
   ]
  },
  {
   "cell_type": "markdown",
   "id": "d0fc30c1",
   "metadata": {},
   "source": [
    "Q.7. Give an example of the following conditions:\n",
    "(i) Homogeneous list\n",
    "(ii)Heterogeneous set\n",
    "(iii) Homogeneous tuple"
   ]
  },
  {
   "cell_type": "markdown",
   "id": "676ce5e0",
   "metadata": {},
   "source": [
    "Homogeneous list: it contains elements of same data types\n",
    "\n",
    "int_list = [ 1,2,3,4,5]\n",
    "\n",
    "\n",
    "-Hetrogenious set : It contains collection of different types by using aset of tuples where each tuple represent a\n",
    " hetrogeniouselements\n",
    "\n",
    "my_set ={(\"apple\",5),(True,34)(\"banana\",3.14)}\n",
    "\n",
    "\n",
    "- HOMOGENIOUS TUPLE:tuple that contains the elements of same data types\n",
    "\n",
    "num1 =(1,3,5,6,7)"
   ]
  },
  {
   "cell_type": "markdown",
   "id": "024f4d83",
   "metadata": {},
   "source": [
    "# Question 8"
   ]
  },
  {
   "cell_type": "code",
   "execution_count": null,
   "id": "62194924",
   "metadata": {},
   "outputs": [],
   "source": [
    "Q.8. Explain the mutable and immutable data types with proper explanation & examples."
   ]
  },
  {
   "cell_type": "code",
   "execution_count": 9,
   "id": "9f841c12",
   "metadata": {},
   "outputs": [
    {
     "name": "stdout",
     "output_type": "stream",
     "text": [
      "['India', 'USA', 'Chili', 'Canada']\n",
      "['India', 'Russia', 'Chili', 'Canada']\n",
      "('India', 'USA', 'Chili', 'Canada')\n",
      "('India', 'USA', 'Chili', 'Canada', 'Russia')\n"
     ]
    }
   ],
   "source": [
    "# A mutable data object can be changed ,or modified after it is created\n",
    "# Examples : List, Set\n",
    "list1 = [\"India\",\"USA\",\"Chili\",\"Canada\"]\n",
    "print(list1)\n",
    "list1[1]= \"Russia\"\n",
    "print(list1)\n",
    "# An immutable data type cannot be changed after it is created\n",
    "# Exg: tuples\n",
    "\n",
    "tuple1 =(\"India\",\"USA\",\"Chili\",\"Canada\")\n",
    "print(tuple1)\n",
    "tuple2 = tuple1+(\"Russia\",)# tuple can not be modified hence,a new tuple is created with original tuple and a new element\n",
    "print(tuple2)"
   ]
  },
  {
   "cell_type": "markdown",
   "id": "a5a1b001",
   "metadata": {},
   "source": [
    "# Question 9"
   ]
  },
  {
   "cell_type": "code",
   "execution_count": 10,
   "id": "5f9981cc",
   "metadata": {},
   "outputs": [
    {
     "data": {
      "text/plain": [
       "' \\nQ.9. Write a code to create the given structure using only for loop.\\n\\n     *\\n    ***\\n   *****\\n  *******\\n *********\\n\\n'"
      ]
     },
     "execution_count": 10,
     "metadata": {},
     "output_type": "execute_result"
    }
   ],
   "source": [
    "''' \n",
    "Q.9. Write a code to create the given structure using only for loop.\n",
    "\n",
    "     *\n",
    "    ***\n",
    "   *****\n",
    "  *******\n",
    " *********\n",
    "\n",
    "'''\n"
   ]
  },
  {
   "cell_type": "code",
   "execution_count": 12,
   "id": "653d99ad",
   "metadata": {},
   "outputs": [
    {
     "name": "stdout",
     "output_type": "stream",
     "text": [
      "    *\n",
      "   ***\n",
      "  *****\n",
      " *******\n",
      "*********\n"
     ]
    }
   ],
   "source": [
    "row = 5\n",
    "space = row-1\n",
    "for i in range(row):\n",
    "    for j in range(space,0,-1):\n",
    "        print(\" \",end=\"\")\n",
    "    for k in range(0,(2*i)+1):\n",
    "        print(\"*\",end=\"\")\n",
    "    space-=1    \n",
    "    print()\n"
   ]
  },
  {
   "cell_type": "markdown",
   "id": "4597d2af",
   "metadata": {},
   "source": [
    "# Question 10"
   ]
  },
  {
   "cell_type": "code",
   "execution_count": 3,
   "id": "292c6caf",
   "metadata": {},
   "outputs": [],
   "source": [
    "  '''\n",
    "Q.10. Write a code to create the given structure using while loop.\n",
    "\n",
    "|||||||||  \n",
    " |||||||\n",
    "  |||||\n",
    "   |||\n",
    "    |\n",
    "'''"
   ]
  },
  {
   "cell_type": "code",
   "execution_count": 1,
   "id": "d7ee19e0",
   "metadata": {},
   "outputs": [
    {
     "name": "stdout",
     "output_type": "stream",
     "text": [
      "|||||||||\n",
      " |||||||\n",
      "  |||||\n",
      "   |||\n",
      "    |\n",
      "\n"
     ]
    }
   ],
   "source": [
    "row = 5\n",
    "space = 0\n",
    "while row>=1:\n",
    "    print(\" \"*space, end=\"\")\n",
    "    print(\"|\"*(2*row-1))\n",
    "    row-=1\n",
    "    space+=1\n",
    "print()    "
   ]
  }
 ],
 "metadata": {
  "kernelspec": {
   "display_name": "Python 3 (ipykernel)",
   "language": "python",
   "name": "python3"
  },
  "language_info": {
   "codemirror_mode": {
    "name": "ipython",
    "version": 3
   },
   "file_extension": ".py",
   "mimetype": "text/x-python",
   "name": "python",
   "nbconvert_exporter": "python",
   "pygments_lexer": "ipython3",
   "version": "3.10.9"
  }
 },
 "nbformat": 4,
 "nbformat_minor": 5
}
