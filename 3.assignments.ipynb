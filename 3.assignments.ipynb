{
 "cells": [
  {
   "cell_type": "markdown",
   "id": "f52376b8",
   "metadata": {},
   "source": [
    "# ASSIGNMENT NO :3"
   ]
  },
  {
   "cell_type": "markdown",
   "id": "6078b87f",
   "metadata": {},
   "source": [
    "# Question 1"
   ]
  },
  {
   "cell_type": "markdown",
   "id": "9ff3eaaa",
   "metadata": {},
   "source": [
    "1. Why are functions advantageous to have in your programs?"
   ]
  },
  {
   "cell_type": "markdown",
   "id": "0e2cf388",
   "metadata": {},
   "source": [
    "- Functins can help you avoid repetition, \n",
    "- Functions can  reduce the need for duplicate code. \n",
    "- This makes programs shorter, easier to read, and easier to update."
   ]
  },
  {
   "cell_type": "markdown",
   "id": "f93af3f8",
   "metadata": {},
   "source": [
    "# Question 2"
   ]
  },
  {
   "cell_type": "markdown",
   "id": "bef0fd71",
   "metadata": {},
   "source": [
    "2. When does the code in a function run: when it's specified or when it's called?"
   ]
  },
  {
   "cell_type": "markdown",
   "id": "71f0082d",
   "metadata": {},
   "source": [
    "- The code in a function executes when the function is called, not when the function is specified."
   ]
  },
  {
   "cell_type": "markdown",
   "id": "4650e954",
   "metadata": {},
   "source": [
    "# Question 3"
   ]
  },
  {
   "cell_type": "markdown",
   "id": "ab568987",
   "metadata": {},
   "source": [
    "3. What statement creates a function?"
   ]
  },
  {
   "cell_type": "markdown",
   "id": "d23615df",
   "metadata": {},
   "source": [
    "- The def statement create a function."
   ]
  },
  {
   "cell_type": "markdown",
   "id": "1329ebab",
   "metadata": {},
   "source": [
    "# Question4"
   ]
  },
  {
   "cell_type": "markdown",
   "id": "a5565c1e",
   "metadata": {},
   "source": [
    "4. What is the difference between a function and a function call?"
   ]
  },
  {
   "cell_type": "markdown",
   "id": "a51e70fc",
   "metadata": {},
   "source": [
    "- A function consists of the def statement and the code in its def clause.\n",
    "- A function call is what moves the program execution into the function, \n",
    "and the function call evaluates to the function's return value."
   ]
  },
  {
   "cell_type": "markdown",
   "id": "778ef6c9",
   "metadata": {},
   "source": [
    "# Question 5"
   ]
  },
  {
   "cell_type": "markdown",
   "id": "1a7b59bb",
   "metadata": {},
   "source": [
    "5. How many global scopes are there in a Python program? How many local scopes?"
   ]
  },
  {
   "cell_type": "markdown",
   "id": "247bcad8",
   "metadata": {},
   "source": [
    " - There is one global scope, and a local scope is created whenever a function is called."
   ]
  },
  {
   "cell_type": "markdown",
   "id": "fe113c6a",
   "metadata": {},
   "source": [
    "# Question 6"
   ]
  },
  {
   "cell_type": "markdown",
   "id": "12d3e22f",
   "metadata": {},
   "source": [
    "6. What happens to variables in a local scope when the function call returns?"
   ]
  },
  {
   "cell_type": "markdown",
   "id": "3dfcaf98",
   "metadata": {},
   "source": [
    "- When a function returns, the local scope is destroyed, and all the variables in it are forgotten."
   ]
  },
  {
   "cell_type": "markdown",
   "id": "35990cda",
   "metadata": {},
   "source": [
    "# Question 7"
   ]
  },
  {
   "cell_type": "markdown",
   "id": "c2a5507e",
   "metadata": {},
   "source": [
    "7. What is the concept of a return value? Is it possible to have a return value in an expression?7. "
   ]
  },
  {
   "cell_type": "markdown",
   "id": "d0592598",
   "metadata": {},
   "source": [
    " - A return statement is used to end the execution of the function call and \"returns\" the result (value of the expression\n",
    " following the return keyword) tothe caller.\n",
    " "
   ]
  },
  {
   "cell_type": "markdown",
   "id": "291f8e79",
   "metadata": {},
   "source": [
    "# Question 9"
   ]
  },
  {
   "cell_type": "markdown",
   "id": "c130cbfc",
   "metadata": {},
   "source": [
    "8. If a function does not have a return statement, what is the return value of a call to that function?"
   ]
  },
  {
   "cell_type": "markdown",
   "id": "e431c924",
   "metadata": {},
   "source": [
    "-If there is no return statement for a function, its return value is None."
   ]
  },
  {
   "cell_type": "markdown",
   "id": "084c7cd0",
   "metadata": {},
   "source": [
    "# Question 9"
   ]
  },
  {
   "cell_type": "markdown",
   "id": "0d6b1d08",
   "metadata": {},
   "source": [
    "9. How do you make a function variable refer to the global variable?"
   ]
  },
  {
   "cell_type": "markdown",
   "id": "0015bbc4",
   "metadata": {},
   "source": [
    "-  A  global statement will force a variable in a function to refer to the global variable."
   ]
  },
  {
   "cell_type": "markdown",
   "id": "77893451",
   "metadata": {},
   "source": [
    "# Question 10"
   ]
  },
  {
   "cell_type": "markdown",
   "id": "e35f01ed",
   "metadata": {},
   "source": [
    "10. What is the data type of None?"
   ]
  },
  {
   "cell_type": "markdown",
   "id": "a3db655c",
   "metadata": {},
   "source": [
    "- The data type of 'None' is called NoneType. \n",
    "- 'None' is often used to indicate that a variable or function does not have a meaningful value"
   ]
  },
  {
   "cell_type": "markdown",
   "id": "4cb4400c",
   "metadata": {},
   "source": [
    "# Question 11"
   ]
  },
  {
   "cell_type": "markdown",
   "id": "09cc2627",
   "metadata": {},
   "source": [
    "11. What does the sentence import areallyourpetsnamederic do?"
   ]
  },
  {
   "cell_type": "markdown",
   "id": "557ecd52",
   "metadata": {},
   "source": [
    "- That import statement imports a module named areallyourpetsnamederic.\n",
    "- if the module does not exist it through anexception -ModuleNotFoundError  "
   ]
  },
  {
   "cell_type": "markdown",
   "id": "f5dbdc25",
   "metadata": {},
   "source": [
    "# Question 12"
   ]
  },
  {
   "cell_type": "markdown",
   "id": "3def4c55",
   "metadata": {},
   "source": [
    "12. If you had a bacon() feature in a spam module, what would you call it after importing spam?"
   ]
  },
  {
   "cell_type": "raw",
   "id": "5a8cd45c",
   "metadata": {},
   "source": [
    "This function can be called with\n",
    "spam.bacon()."
   ]
  },
  {
   "cell_type": "markdown",
   "id": "baa5bc32",
   "metadata": {},
   "source": [
    "# Question 13"
   ]
  },
  {
   "cell_type": "markdown",
   "id": "22034d45",
   "metadata": {},
   "source": [
    "13. What can you do to save a programme from crashing if it encounters an error?"
   ]
  },
  {
   "cell_type": "raw",
   "id": "64a5b6ea",
   "metadata": {},
   "source": [
    "Place the line of code that might cause an error in a try clause."
   ]
  },
  {
   "cell_type": "markdown",
   "id": "4228db73",
   "metadata": {},
   "source": [
    "# Question 14"
   ]
  },
  {
   "cell_type": "markdown",
   "id": "2c9c11ff",
   "metadata": {},
   "source": [
    "14. What is the purpose of the try clause? What is the purpose of the except clause?\n"
   ]
  },
  {
   "cell_type": "raw",
   "id": "63efaa06",
   "metadata": {},
   "source": [
    "The code that could potentially cause an error goes in the try clause.\n",
    "\n",
    "The code that executes if an error happens goes in the except clause.\n",
    "\n",
    "\n"
   ]
  }
 ],
 "metadata": {
  "kernelspec": {
   "display_name": "Python 3 (ipykernel)",
   "language": "python",
   "name": "python3"
  },
  "language_info": {
   "codemirror_mode": {
    "name": "ipython",
    "version": 3
   },
   "file_extension": ".py",
   "mimetype": "text/x-python",
   "name": "python",
   "nbconvert_exporter": "python",
   "pygments_lexer": "ipython3",
   "version": "3.10.9"
  }
 },
 "nbformat": 4,
 "nbformat_minor": 5
}
