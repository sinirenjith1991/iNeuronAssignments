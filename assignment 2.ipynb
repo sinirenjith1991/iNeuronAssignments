{
 "cells": [
  {
   "cell_type": "markdown",
   "id": "04b91be3",
   "metadata": {},
   "source": [
    "# ASSIGNMENT -2"
   ]
  },
  {
   "cell_type": "markdown",
   "id": "c1002850",
   "metadata": {},
   "source": [
    "1.What are the two values of the Boolean data type? How do you write them?"
   ]
  },
  {
   "cell_type": "raw",
   "id": "64eec98b",
   "metadata": {},
   "source": [
    "True and False, using capital T and F, with the rest of the word in lowercase"
   ]
  },
  {
   "cell_type": "markdown",
   "id": "e5915d1e",
   "metadata": {},
   "source": [
    "2.What are the three different types of Boolean operators?"
   ]
  },
  {
   "cell_type": "code",
   "execution_count": null,
   "id": "030a2cf9",
   "metadata": {},
   "outputs": [],
   "source": [
    "# and ,or & not\n",
    "   "
   ]
  },
  {
   "cell_type": "markdown",
   "id": "be4c89ac",
   "metadata": {},
   "source": [
    "3. Make a list of each Boolean operator&#39;s truth tables (i.e. every possible combination of Boolean\\n\",\n",
    "    \"values for the operator and what it evaluate\""
   ]
  },
  {
   "cell_type": "markdown",
   "id": "d8242187",
   "metadata": {},
   "source": [
    "and Operator\n",
    "\n",
    "   - True and True is True.\n",
    "   - True and False is False.\n",
    "   - False and True is False.\n",
    "   - False and False is False.\n",
    "   \n",
    "or operator\n",
    "    \n",
    "   - True or True is True.\n",
    "   - True or False is True.\n",
    "   - False or True is True.\n",
    "   - False or False is False.\n",
    "    \n",
    "not operator:-\n",
    "    \n",
    "   - not True is False.\n",
    "   - not False is False"
   ]
  },
  {
   "cell_type": "markdown",
   "id": "79b3aaf4",
   "metadata": {},
   "source": [
    "4. What are the values of the following expressions?\n",
    "(5 &gt; 4) and (3 == 5)\n",
    "not (5 &gt; 4)\n",
    "(5 &gt; 4) or (3 == 5)\n",
    "not ((5 &gt; 4) or (3 == 5))\n",
    "(True and True) and (True == False)\n",
    "(not False) or (not True)"
   ]
  },
  {
   "cell_type": "markdown",
   "id": "3493bcdc",
   "metadata": {},
   "source": [
    "(5 > 4) and (3 == 5)            : False\n",
    "not (5 > 4)                     : False\n",
    "(5 > 4) or (3 == 5)             : True\n",
    "not ((5 > 4) or (3 == 5))       :False\n",
    "(True and True) and (True == False):False\n",
    "(not False) or (not True)       :True"
   ]
  },
  {
   "cell_type": "markdown",
   "id": "06818f76",
   "metadata": {},
   "source": [
    "5. What are the six comparison operators?"
   ]
  },
  {
   "cell_type": "code",
   "execution_count": null,
   "id": "956958a4",
   "metadata": {},
   "outputs": [],
   "source": [
    "1.== : equal to\n",
    "2.!= : not equal to\n",
    "3.< : less than\n",
    "4.> : greater than\n",
    "5.<= : less than or equal to \n",
    "6.>= : greater than or equal to"
   ]
  },
  {
   "cell_type": "markdown",
   "id": "07e8d917",
   "metadata": {},
   "source": [
    "6. How do you tell the difference between the equal to and assignment operators?Describe a\n",
    "condition and when you would use one."
   ]
  },
  {
   "cell_type": "code",
   "execution_count": null,
   "id": "affb3d4d",
   "metadata": {},
   "outputs": [],
   "source": [
    "\"\"\"\n",
    "== is the equal to operator that compares two values and evaluates to a Boolean, while \n",
    "= is the assignment operator that stores a value in a variable.\n",
    "A condition is an expression used in a flow control statement that evaluates to a Boolean value.\n",
    "    \n",
    "\"\"\""
   ]
  },
  {
   "cell_type": "code",
   "execution_count": null,
   "id": "25d73534",
   "metadata": {},
   "outputs": [],
   "source": [
    "7. Identify the three blocks in this code:\n",
    "spam = 0\n",
    "if spam == 10:\n",
    "print('eggs')\n",
    "if spam > 5:\n",
    "print('bacon')\n",
    "else:\n",
    "print('ham')\n",
    "print('spam')\n",
    "print('spam')\n"
   ]
  },
  {
   "cell_type": "code",
   "execution_count": 5,
   "id": "3b2f8298",
   "metadata": {},
   "outputs": [
    {
     "name": "stdout",
     "output_type": "stream",
     "text": [
      "ham\n",
      "spam\n",
      "spam\n"
     ]
    }
   ],
   "source": [
    "# block1\n",
    "\n",
    "spam =0\n",
    "if spam == 10:\n",
    "    print('eggs')\n",
    "\n",
    "# block2\n",
    "\n",
    "if spam >5:\n",
    "    print('bacon')\n",
    "else:\n",
    "    print('ham')\n",
    "    \n",
    "#block3\n",
    "\n",
    "print('spam')\n",
    "print('spam')"
   ]
  },
  {
   "cell_type": "markdown",
   "id": "8bf9ab08",
   "metadata": {},
   "source": [
    "8. Write code that prints Hello if 1 is stored in spam, prints Howdy if 2 is stored in spam, and prints\n",
    "Greetings! if anything else is stored in spam."
   ]
  },
  {
   "cell_type": "code",
   "execution_count": 8,
   "id": "a3adbbcb",
   "metadata": {},
   "outputs": [
    {
     "name": "stdout",
     "output_type": "stream",
     "text": [
      "howdy\n"
     ]
    }
   ],
   "source": [
    "spam = 2\n",
    "if spam == 1:\n",
    "    print(\"hello\")\n",
    "\n",
    "elif spam == 2:\n",
    "    print(\"howdy\")\n",
    "else:\n",
    "    print(\"Greetings!\")\n",
    "\n"
   ]
  },
  {
   "cell_type": "code",
   "execution_count": null,
   "id": "ae3f9245",
   "metadata": {},
   "outputs": [],
   "source": [
    "9.If your programme is stuck in an endless loop, what keys you’ll press?"
   ]
  },
  {
   "cell_type": "markdown",
   "id": "1212a03d",
   "metadata": {},
   "source": [
    "- Press CTRL-C to stop a program stuck in an infinite loop.\n",
    "- Use kernel interupt"
   ]
  },
  {
   "cell_type": "code",
   "execution_count": null,
   "id": "b4e2a4dd",
   "metadata": {},
   "outputs": [],
   "source": [
    "10. How can you tell the difference between break and continue?"
   ]
  },
  {
   "cell_type": "markdown",
   "id": "3632b8d9",
   "metadata": {},
   "source": [
    "- break:  it breaks the execution of the loop if condition is true\n",
    "- continue: it stops the execution of iteration if condition is true and continue to the next iteration"
   ]
  },
  {
   "cell_type": "markdown",
   "id": "6dd55f65",
   "metadata": {},
   "source": [
    "11. In a for loop, what is the difference between range(10), range(0, 10), and range(0, 10, 1)?"
   ]
  },
  {
   "cell_type": "raw",
   "id": "2189131e",
   "metadata": {},
   "source": [
    "They all do the same thing. \n",
    "The range(10) call ranges from 0 up to (but not including) 10, range(0, 10) explicitly tells the loop to start at 0, and range(0, 10, 1) explicitly tells the loop to increase the variable by 1 on each iteration."
   ]
  },
  {
   "cell_type": "markdown",
   "id": "ae973656",
   "metadata": {},
   "source": [
    "12. Write a short program that prints the numbers 1 to 10 using a for loop. Then write an equivalent\n",
    "program that prints the numbers 1 to 10 using a while loop."
   ]
  },
  {
   "cell_type": "code",
   "execution_count": 15,
   "id": "d9ce973d",
   "metadata": {},
   "outputs": [
    {
     "name": "stdout",
     "output_type": "stream",
     "text": [
      "1\n",
      "2\n",
      "3\n",
      "4\n",
      "5\n",
      "6\n",
      "7\n",
      "8\n",
      "9\n",
      "10\n"
     ]
    }
   ],
   "source": [
    "i=10\n",
    "for i in range(10):\n",
    "    print(i+1)"
   ]
  },
  {
   "cell_type": "code",
   "execution_count": 16,
   "id": "e1a1fcda",
   "metadata": {},
   "outputs": [
    {
     "name": "stdout",
     "output_type": "stream",
     "text": [
      "1\n",
      "2\n",
      "3\n",
      "4\n",
      "5\n",
      "6\n",
      "7\n",
      "8\n",
      "9\n",
      "10\n"
     ]
    }
   ],
   "source": [
    "i = 1\n",
    "while i<=10:\n",
    "    print(i)\n",
    "    i+=1\n"
   ]
  },
  {
   "cell_type": "code",
   "execution_count": null,
   "id": "83c1f753",
   "metadata": {},
   "outputs": [],
   "source": [
    "13. If you had a function named bacon() inside a module named spam, how would you call it after importing spam?"
   ]
  },
  {
   "cell_type": "markdown",
   "id": "dde3817c",
   "metadata": {},
   "source": [
    "import spam\n",
    "spam.bacon()"
   ]
  },
  {
   "cell_type": "code",
   "execution_count": null,
   "id": "61a8cdd6",
   "metadata": {},
   "outputs": [],
   "source": [
    "\n",
    "\n",
    "\n"
   ]
  }
 ],
 "metadata": {
  "kernelspec": {
   "display_name": "Python 3 (ipykernel)",
   "language": "python",
   "name": "python3"
  },
  "language_info": {
   "codemirror_mode": {
    "name": "ipython",
    "version": 3
   },
   "file_extension": ".py",
   "mimetype": "text/x-python",
   "name": "python",
   "nbconvert_exporter": "python",
   "pygments_lexer": "ipython3",
   "version": "3.10.9"
  }
 },
 "nbformat": 4,
 "nbformat_minor": 5
}
