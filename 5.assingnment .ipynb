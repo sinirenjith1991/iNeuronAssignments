{
 "cells": [
  {
   "cell_type": "markdown",
   "id": "05dfb4a0",
   "metadata": {},
   "source": [
    "# Assignment 5"
   ]
  },
  {
   "cell_type": "markdown",
   "id": "e38dbd68",
   "metadata": {},
   "source": [
    "# Question 1"
   ]
  },
  {
   "cell_type": "markdown",
   "id": "1dfbcf34",
   "metadata": {},
   "source": [
    "1.What does an empty dictionarys code look like\n"
   ]
  },
  {
   "cell_type": "markdown",
   "id": "053d9aed",
   "metadata": {},
   "source": [
    "- An empty dictionary represented by a pair of curly braces '{}' with no key values\n",
    "  dict = {}\n"
   ]
  },
  {
   "cell_type": "markdown",
   "id": "d96939d8",
   "metadata": {},
   "source": [
    "# Question 2"
   ]
  },
  {
   "cell_type": "markdown",
   "id": "b2a92998",
   "metadata": {},
   "source": [
    "2. What is the value of a dictionary value with the key 'foo' and the value 42?"
   ]
  },
  {
   "cell_type": "code",
   "execution_count": 5,
   "id": "266fedec",
   "metadata": {},
   "outputs": [
    {
     "name": "stdout",
     "output_type": "stream",
     "text": [
      "{'foo': 42}\n",
      "42\n"
     ]
    }
   ],
   "source": [
    "my_dict = {'foo': 42}\n",
    "print(my_dict)\n",
    "print(my_dict['foo'])\n",
    " # 'foo'is a key and 42 is the value"
   ]
  },
  {
   "cell_type": "markdown",
   "id": "2d5b5561",
   "metadata": {},
   "source": [
    "# Question 3"
   ]
  },
  {
   "cell_type": "markdown",
   "id": "9e2bfd34",
   "metadata": {},
   "source": [
    "3. What is the most significant distinction between a dictionary and a list?"
   ]
  },
  {
   "cell_type": "code",
   "execution_count": 6,
   "id": "dbf77326",
   "metadata": {},
   "outputs": [],
   "source": [
    "\"\"\"\n",
    "the main difference between a dictionary and a list is their and the way they store and retrieve data.\n",
    "- The items stored in a dictionary are unordered, while the items in a list are ordered. \n",
    "- In list each item is assigned a numerical index starting from 0,but\n",
    "  in dictionaries are used to store data values in key:value pairs \n",
    "- list are mutable but in dictionary only keys aremutable values are immutable \n",
    "\"\"\"\n",
    "#list\n",
    "my_list = [10,'cat',5.5,99,True]\n",
    "#dictionary\n",
    "my_dict = {\"name\":\"Alice\" , \"age\":24 ,\"country\":\"India\"}\n"
   ]
  },
  {
   "cell_type": "markdown",
   "id": "65212211",
   "metadata": {},
   "source": [
    "# Question 4"
   ]
  },
  {
   "cell_type": "markdown",
   "id": "6bfcfff6",
   "metadata": {},
   "source": [
    "4. What happens if you try to access spam['foo'] if spam is {'bar': 100}?"
   ]
  },
  {
   "cell_type": "code",
   "execution_count": null,
   "id": "8e9a8280",
   "metadata": {},
   "outputs": [],
   "source": [
    "spam = {'bar':100}\n",
    "spam['foo']\n",
    "# If you run this code it will raise a 'keyError' because the key 'foo'does not exist in the dictionary"
   ]
  },
  {
   "cell_type": "markdown",
   "id": "a2d8511e",
   "metadata": {},
   "source": [
    "# Question 5"
   ]
  },
  {
   "cell_type": "markdown",
   "id": "b0f3659d",
   "metadata": {},
   "source": [
    "5. If a dictionary is stored in spam, what is the difference between the expressions 'cat' in spam and\n",
    "'cat' in spam.keys()?"
   ]
  },
  {
   "cell_type": "code",
   "execution_count": 10,
   "id": "a6fafef9",
   "metadata": {},
   "outputs": [
    {
     "name": "stdout",
     "output_type": "stream",
     "text": [
      "True\n",
      "True\n"
     ]
    }
   ],
   "source": [
    "\"\"\"\n",
    "the expression 'cat' in spam checks if the key 'cat'exist in the dictionary 'spam', whereas the expression 'cat'\n",
    "in spam.keys() checks if the key 'cat' exist among the keys of the dictionray 'spam'. if the key is present the value\n",
    "will be 'True' otherwise its 'False', Here both expressions evaluate to 'True'\n",
    "\n",
    "\"\"\"\n",
    "spam ={'cat':'meow','dog':'bow','duck':'quack'}\n",
    "print('cat'in spam)\n",
    "print('cat'in spam.keys())\n"
   ]
  },
  {
   "cell_type": "markdown",
   "id": "5df89e3b",
   "metadata": {},
   "source": [
    "# Question 6"
   ]
  },
  {
   "cell_type": "markdown",
   "id": "32f45546",
   "metadata": {},
   "source": [
    " What is a shortcut for the following code?\n",
    "if 'color' not in spam:\n",
    "spam[color] = black"
   ]
  },
  {
   "cell_type": "code",
   "execution_count": 12,
   "id": "8d7764ec",
   "metadata": {},
   "outputs": [
    {
     "name": "stdout",
     "output_type": "stream",
     "text": [
      "{'place': 'india', 'name': 'john', 'age': 23, 'color': 'black'}\n"
     ]
    },
    {
     "data": {
      "text/plain": [
       "'black'"
      ]
     },
     "execution_count": 12,
     "metadata": {},
     "output_type": "execute_result"
    }
   ],
   "source": [
    "spam = {\"place\":\"india\",\"name\":\"john\",\"age\":23}\n",
    "spam_temp=spam.setdefault('color', 'black')  \n",
    "print(spam)\n",
    "spam_temp\n",
    "#  we can use setdefault to set a key value pair \n",
    "# It check for the specified key and if it is not present it adds the key and its value in the dictionary."
   ]
  },
  {
   "cell_type": "markdown",
   "id": "4dcd61a0",
   "metadata": {},
   "source": [
    "# Question 7"
   ]
  },
  {
   "cell_type": "code",
   "execution_count": null,
   "id": "abdc9eb1",
   "metadata": {},
   "outputs": [],
   "source": [
    "8. How do you pretty print dictionary values using which module and function?"
   ]
  },
  {
   "cell_type": "code",
   "execution_count": 14,
   "id": "0ce631b2",
   "metadata": {},
   "outputs": [
    {
     "name": "stdout",
     "output_type": "stream",
     "text": [
      "{'age': 23, 'name': 'sini', 'place': 'india'}\n"
     ]
    }
   ],
   "source": [
    "import pprint\n",
    "my_dict = {\"name\":\"sini\",\"age\":23,\"place\":\"india\"}\n",
    "pprint.pprint(my_dict)"
   ]
  }
 ],
 "metadata": {
  "kernelspec": {
   "display_name": "Python 3 (ipykernel)",
   "language": "python",
   "name": "python3"
  },
  "language_info": {
   "codemirror_mode": {
    "name": "ipython",
    "version": 3
   },
   "file_extension": ".py",
   "mimetype": "text/x-python",
   "name": "python",
   "nbconvert_exporter": "python",
   "pygments_lexer": "ipython3",
   "version": "3.10.9"
  }
 },
 "nbformat": 4,
 "nbformat_minor": 5
}
