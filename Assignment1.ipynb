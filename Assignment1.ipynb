{
 "cells": [
  {
   "cell_type": "markdown",
   "id": "b9f8fa74",
   "metadata": {},
   "source": [
    "# Question 1"
   ]
  },
  {
   "cell_type": "markdown",
   "id": "dd630ef1",
   "metadata": {},
   "source": [
    "In the below elements which of them are values or an expression? eg:- values can be integer or string and expressions will be mathematical operators. <br>\n",
    "&#42; <br>\n",
    "'hello' <br>\n",
    "-87.8 <br>\n",
    "&#45; <br>\n",
    "/ <br>\n",
    "&#43; <br>\n",
    "6 <br>"
   ]
  },
  {
   "cell_type": "markdown",
   "id": "fb76cc2f",
   "metadata": {},
   "source": [
    "Answer:\n",
    "\n",
    "Values   :-  hello, 87.8,6 <br>\n",
    "expression:- *,-,/,+    "
   ]
  },
  {
   "cell_type": "markdown",
   "id": "ba70e4f7",
   "metadata": {},
   "source": [
    "# Question 2"
   ]
  },
  {
   "cell_type": "markdown",
   "id": "d4a3611e",
   "metadata": {},
   "source": [
    "What is the difference between string and variable?"
   ]
  },
  {
   "cell_type": "markdown",
   "id": "45d07757",
   "metadata": {},
   "source": [
    "- Variables are used to store values of data in the memory when the code is executed ex: x=2.\n",
    "- Strings are data, whose values can be stored in variables. It is essentially a textual information or collection of characters such as letters , digits and symbols, that are enclosed within quotes ie:-('')or(\"\")\n",
    "\n",
    "\n"
   ]
  },
  {
   "cell_type": "markdown",
   "id": "f8496849",
   "metadata": {},
   "source": [
    "# Question 3"
   ]
  },
  {
   "cell_type": "markdown",
   "id": "6b0b8c6f",
   "metadata": {},
   "source": [
    "Describe three different data types."
   ]
  },
  {
   "cell_type": "markdown",
   "id": "0f2d7a10",
   "metadata": {},
   "source": [
    " There are numerous data types, here are some data types \n",
    " \n",
    "* String  data type:- string is a combination of character data .They are created by enclosing character in quotes\n",
    "    \n",
    "* Integer data type :- The integer data type represents whole numbers  without decimal points, it can be positive or negative   \n",
    "                       or zero \n",
    "\n",
    "* Boolean Data Type(bool): Represents either True or False, used for logical operations and conditions.\n",
    "\n"
   ]
  },
  {
   "cell_type": "markdown",
   "id": "ace981ad",
   "metadata": {},
   "source": [
    "# Question 4"
   ]
  },
  {
   "cell_type": "markdown",
   "id": "0dae1c8d",
   "metadata": {},
   "source": [
    "What is an expression made up of? What do all expressions do? "
   ]
  },
  {
   "cell_type": "code",
   "execution_count": 3,
   "id": "f36813a2",
   "metadata": {},
   "outputs": [
    {
     "data": {
      "text/plain": [
       "3"
      ]
     },
     "execution_count": 3,
     "metadata": {},
     "output_type": "execute_result"
    }
   ],
   "source": [
    "# An expression is a combination of values and operators which can be evaluated to give a value as a result.\n",
    "a = 1\n",
    "b = 2\n",
    "sum = a+ b #Here a+b is an expression which gives result in the sum variable.\n",
    "sum"
   ]
  },
  {
   "cell_type": "markdown",
   "id": "f4d35be6",
   "metadata": {},
   "source": [
    "# Question5"
   ]
  },
  {
   "cell_type": "markdown",
   "id": "3678478f",
   "metadata": {},
   "source": [
    "This assignment statements, like spam = 10. What is the difference between an\n",
    "expression and a statement?"
   ]
  },
  {
   "cell_type": "markdown",
   "id": "679669bb",
   "metadata": {},
   "source": [
    "- Statements perform actions or control the flow of a program  but do not produce a value.\n",
    "- An expression evaluates to a single value. A statement does not."
   ]
  },
  {
   "cell_type": "markdown",
   "id": "e04baf9c",
   "metadata": {},
   "source": [
    "# Question 6"
   ]
  },
  {
   "cell_type": "markdown",
   "id": "74404665",
   "metadata": {},
   "source": [
    "After running the following code, what does the variable bacon contain? <br>\n",
    "bacon = 22, <br>\n",
    "bacon + 1\n"
   ]
  },
  {
   "cell_type": "code",
   "execution_count": 10,
   "id": "faba79ee",
   "metadata": {},
   "outputs": [
    {
     "data": {
      "text/plain": [
       "23"
      ]
     },
     "execution_count": 10,
     "metadata": {},
     "output_type": "execute_result"
    }
   ],
   "source": [
    "#Answer : 22\n",
    "\n",
    "bacon = 22\n",
    "bacon + 1 # value of variable bacon is not updated as the expression bacon+1 is not assigned to the variable bacon.\n",
    "bacon\n",
    "bacon = bacon + 1\n",
    "bacon"
   ]
  },
  {
   "cell_type": "markdown",
   "id": "86585710",
   "metadata": {},
   "source": [
    "# Question7"
   ]
  },
  {
   "cell_type": "markdown",
   "id": "08afb928",
   "metadata": {},
   "source": [
    "7. What should the values of the following two terms be?\n",
    "spam + spamspam\n",
    "spam * 3"
   ]
  },
  {
   "cell_type": "code",
   "execution_count": 19,
   "id": "c761eb37",
   "metadata": {},
   "outputs": [
    {
     "name": "stdout",
     "output_type": "stream",
     "text": [
      "spamspamspam\n",
      "spamspamspam\n"
     ]
    }
   ],
   "source": [
    "print(\"spam\" +\"spamspam\")\n",
    "print(\"spam\" * 3)"
   ]
  },
  {
   "cell_type": "markdown",
   "id": "b672deb1",
   "metadata": {},
   "source": [
    "# Question8"
   ]
  },
  {
   "cell_type": "raw",
   "id": "cd78443b",
   "metadata": {},
   "source": [
    "Why is eggs a valid variable name while 100 is invalid?"
   ]
  },
  {
   "cell_type": "markdown",
   "id": "09251a06",
   "metadata": {},
   "source": [
    "- Variable names cannot begin with a number."
   ]
  },
  {
   "cell_type": "markdown",
   "id": "eb50dcd5",
   "metadata": {},
   "source": [
    "# Question9"
   ]
  },
  {
   "cell_type": "markdown",
   "id": "116f8f2a",
   "metadata": {},
   "source": [
    "9. What three functions can be used to get the integer, floating-point number, or string\n",
    "version of a value?"
   ]
  },
  {
   "cell_type": "markdown",
   "id": "0f4316e2",
   "metadata": {},
   "source": [
    "- The int() -integer\n",
    "- float() - floating point number,\n",
    "- str() -string \n",
    "- these functions are evaluate to the function values"
   ]
  },
  {
   "cell_type": "markdown",
   "id": "5693cbca",
   "metadata": {},
   "source": [
    "# Question10"
   ]
  },
  {
   "cell_type": "markdown",
   "id": "3f001fee",
   "metadata": {},
   "source": [
    " Why does this expression cause an error? How can you fix it?\n",
    " \n",
    " I have eaten  + 99 +  burritos."
   ]
  },
  {
   "cell_type": "code",
   "execution_count": 9,
   "id": "53ac4fce",
   "metadata": {},
   "outputs": [
    {
     "name": "stdout",
     "output_type": "stream",
     "text": [
      "i have eaten 99 burritos\n",
      "i have eaten 99 burritos\n"
     ]
    }
   ],
   "source": [
    "\n",
    "print(('i have eaten')+(' 99 burritos'))\n",
    "\n",
    "print((\"i have eaten \")+str(99)+\" burritos\")"
   ]
  },
  {
   "cell_type": "markdown",
   "id": "6da0be69",
   "metadata": {},
   "source": [
    "- because 99 is an integer"
   ]
  },
  {
   "cell_type": "code",
   "execution_count": null,
   "id": "bf076e33",
   "metadata": {},
   "outputs": [],
   "source": []
  }
 ],
 "metadata": {
  "kernelspec": {
   "display_name": "Python 3 (ipykernel)",
   "language": "python",
   "name": "python3"
  },
  "language_info": {
   "codemirror_mode": {
    "name": "ipython",
    "version": 3
   },
   "file_extension": ".py",
   "mimetype": "text/x-python",
   "name": "python",
   "nbconvert_exporter": "python",
   "pygments_lexer": "ipython3",
   "version": "3.10.9"
  }
 },
 "nbformat": 4,
 "nbformat_minor": 5
}
