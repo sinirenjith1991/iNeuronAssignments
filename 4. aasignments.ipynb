{
 "cells": [
  {
   "cell_type": "markdown",
   "id": "1026ed7b",
   "metadata": {},
   "source": [
    "#           ASSIGNMENT - 4"
   ]
  },
  {
   "cell_type": "markdown",
   "id": "f5eb76a2",
   "metadata": {},
   "source": [
    "# Question 1"
   ]
  },
  {
   "cell_type": "markdown",
   "id": "cf3b5801",
   "metadata": {},
   "source": [
    "1. What exactly is []?"
   ]
  },
  {
   "cell_type": "markdown",
   "id": "a88de974",
   "metadata": {},
   "source": [
    "- The empty list value, which is a list value that contains no items. "
   ]
  },
  {
   "cell_type": "markdown",
   "id": "6db5b637",
   "metadata": {},
   "source": [
    "# Question 2"
   ]
  },
  {
   "cell_type": "markdown",
   "id": "b731a153",
   "metadata": {},
   "source": [
    "2. In a list of values stored in a variable called spam, how would you assign the value \"hello\" as the\n",
    "third value? (Assume [2, 4, 6, 8, 10] are in spam.)"
   ]
  },
  {
   "cell_type": "code",
   "execution_count": 1,
   "id": "8a88bb98",
   "metadata": {},
   "outputs": [
    {
     "data": {
      "text/plain": [
       "[2, 4, 'Hello', 8.1]"
      ]
     },
     "execution_count": 1,
     "metadata": {},
     "output_type": "execute_result"
    }
   ],
   "source": [
    "spam = [2,4,6,8.10]\n",
    "spam[2] = 'Hello'\n",
    "spam"
   ]
  },
  {
   "cell_type": "markdown",
   "id": "e458273b",
   "metadata": {},
   "source": [
    "# Question 3"
   ]
  },
  {
   "cell_type": "markdown",
   "id": "3b439c6a",
   "metadata": {},
   "source": [
    "Let's pretend the spam includes the list ['a', 'b', 'c', 'd'] for the next three queries"
   ]
  },
  {
   "cell_type": "markdown",
   "id": "3826c3d3",
   "metadata": {},
   "source": [
    "3. What is the value of spam[int(int('3' * 2) / 11)]?"
   ]
  },
  {
   "cell_type": "code",
   "execution_count": null,
   "id": "af49f1be",
   "metadata": {},
   "outputs": [],
   "source": [
    "spam[int(int('3' * 2) / 11)]\n",
    "'3'*'2'=33 then 33/11=3\n",
    "so  spam[3] = d\n"
   ]
  },
  {
   "cell_type": "markdown",
   "id": "eaf7d238",
   "metadata": {},
   "source": [
    "# Question 4"
   ]
  },
  {
   "cell_type": "markdown",
   "id": "942b3461",
   "metadata": {},
   "source": [
    "4. What is the value of spam[-1]?"
   ]
  },
  {
   "cell_type": "markdown",
   "id": "9a1552a0",
   "metadata": {},
   "source": [
    "-  spam[-1] =  'd'  (Negative indexes count from the end.)"
   ]
  },
  {
   "cell_type": "markdown",
   "id": "7f1ceea4",
   "metadata": {},
   "source": [
    "# Question 5"
   ]
  },
  {
   "cell_type": "markdown",
   "id": "71bb9475",
   "metadata": {},
   "source": [
    "5. What is the value of spam[:2]\n"
   ]
  },
  {
   "cell_type": "markdown",
   "id": "fe55feff",
   "metadata": {},
   "source": [
    " - spam =  ['a','b']"
   ]
  },
  {
   "cell_type": "markdown",
   "id": "645cac4a",
   "metadata": {},
   "source": [
    "\n",
    "# Question 6"
   ]
  },
  {
   "cell_type": "markdown",
   "id": "deb3b278",
   "metadata": {},
   "source": [
    "Let's pretend bacon has the list [3.14, 'cat,' 11, 'cat,' True] for the next three questions."
   ]
  },
  {
   "cell_type": "markdown",
   "id": "351b36f8",
   "metadata": {},
   "source": [
    "6. What is the value of bacon.index(cat)?"
   ]
  },
  {
   "cell_type": "code",
   "execution_count": 19,
   "id": "6240c282",
   "metadata": {},
   "outputs": [
    {
     "data": {
      "text/plain": [
       "1"
      ]
     },
     "execution_count": 19,
     "metadata": {},
     "output_type": "execute_result"
    }
   ],
   "source": [
    "bacon = [3.14, 'cat', 11, 'cat', True] \n",
    "bacon.index('cat')\n"
   ]
  },
  {
   "cell_type": "markdown",
   "id": "543bb4b9",
   "metadata": {},
   "source": [
    "# Question 7"
   ]
  },
  {
   "cell_type": "markdown",
   "id": "fdd31c91",
   "metadata": {},
   "source": [
    "\n",
    "7. How does bacon.append(99) change the look of the list value in bacon?"
   ]
  },
  {
   "cell_type": "code",
   "execution_count": 2,
   "id": "3e963be9",
   "metadata": {},
   "outputs": [
    {
     "data": {
      "text/plain": [
       "[3.14, 'cat', 11, 'cat', True, 99]"
      ]
     },
     "execution_count": 2,
     "metadata": {},
     "output_type": "execute_result"
    }
   ],
   "source": [
    "bacon = [3.14, 'cat', 11, 'cat', True] \n",
    "bacon.append(99) # the value 99 adding to the bacon list\n",
    "bacon"
   ]
  },
  {
   "cell_type": "markdown",
   "id": "aa9efa11",
   "metadata": {},
   "source": [
    "# Question 8"
   ]
  },
  {
   "cell_type": "code",
   "execution_count": 22,
   "id": "d6a79fa2",
   "metadata": {},
   "outputs": [],
   "source": [
    "8. How does bacon.remove(cat) change the look of the list in bacon?"
   ]
  },
  {
   "cell_type": "code",
   "execution_count": 3,
   "id": "8355cdd0",
   "metadata": {},
   "outputs": [
    {
     "data": {
      "text/plain": [
       "[3.14, 11, 'cat', True]"
      ]
     },
     "execution_count": 3,
     "metadata": {},
     "output_type": "execute_result"
    }
   ],
   "source": [
    "bacon = [3.14, 'cat', 11, 'cat', True] \n",
    "bacon.remove('cat') # removes the first occurrence of 'cat' from the list\n",
    "bacon"
   ]
  },
  {
   "cell_type": "markdown",
   "id": "492df8e5",
   "metadata": {},
   "source": [
    "# Question9"
   ]
  },
  {
   "cell_type": "markdown",
   "id": "c899740a",
   "metadata": {},
   "source": [
    "9. What are the list concatenation and list replication operators?"
   ]
  },
  {
   "cell_type": "code",
   "execution_count": 5,
   "id": "15ac47a0",
   "metadata": {},
   "outputs": [
    {
     "name": "stdout",
     "output_type": "stream",
     "text": [
      "[10, 20, 30, 40, 50, 60]\n",
      "[10, 20, 30, 10, 20, 30]\n"
     ]
    }
   ],
   "source": [
    "# The operator for list concatenation is +, while the operator for replication is *.\n",
    "\n",
    "#concatenation\n",
    "\n",
    "list1 =[10,20,30]\n",
    "list2 =[40,50,60]\n",
    "list3= list1 + list2\n",
    "print(list3)\n",
    "\n",
    "# Replication\n",
    "\n",
    "list4 = list1*2\n",
    "print(list4)"
   ]
  },
  {
   "cell_type": "markdown",
   "id": "46066f3b",
   "metadata": {},
   "source": [
    "# Question 10"
   ]
  },
  {
   "cell_type": "markdown",
   "id": "54a5375d",
   "metadata": {},
   "source": [
    "10. What is difference between the list methods append() and insert()?"
   ]
  },
  {
   "cell_type": "markdown",
   "id": "45b8e3bc",
   "metadata": {},
   "source": [
    "- append() will add values only to the end of a list,\n",
    "- insert() can add value in a specified index of the list."
   ]
  },
  {
   "cell_type": "markdown",
   "id": "8c3056de",
   "metadata": {},
   "source": [
    "# Question 11"
   ]
  },
  {
   "cell_type": "markdown",
   "id": "7868ffd0",
   "metadata": {},
   "source": [
    "11.What are the two methods for removing items from a list?"
   ]
  },
  {
   "cell_type": "markdown",
   "id": "95c65a67",
   "metadata": {},
   "source": [
    "- Using the remove() method.\n",
    "- Using the list object's pop() method.\n"
   ]
  },
  {
   "cell_type": "markdown",
   "id": "c8acd27f",
   "metadata": {},
   "source": [
    "# Question 12"
   ]
  },
  {
   "cell_type": "markdown",
   "id": "c0af8e3e",
   "metadata": {},
   "source": [
    "12. Describe how list values and string values are identical."
   ]
  },
  {
   "cell_type": "markdown",
   "id": "77a9114b",
   "metadata": {},
   "source": [
    "In some case string values and list values are identical \n",
    "- Both lists and strings  are sequences of elements  \n",
    "- Both lists and strings can be passed to len()\n",
    "- Both lists and strings concatenated or replicated, and be used with the in and not in operators."
   ]
  },
  {
   "cell_type": "markdown",
   "id": "1ec7ba78",
   "metadata": {},
   "source": [
    "# Question 13"
   ]
  },
  {
   "cell_type": "markdown",
   "id": "812d2c29",
   "metadata": {},
   "source": [
    "13. What is the difference between tuples and lists?"
   ]
  },
  {
   "cell_type": "markdown",
   "id": "0c260e9e",
   "metadata": {},
   "source": [
    "- A list is an ordered data structure with elements separated by a comma and enclosed within square brackets[].\n",
    "  List  are mutable ,they can have values added removed or changed.\n",
    "- Tuple is an ordered sequence of values. The values can not be repeated, \n",
    "  A tuple is often represented by a comma-delimited list whose values are enclosed in parentheses() \n",
    "  Tuples are immutable they can not changed be at all"
   ]
  },
  {
   "cell_type": "markdown",
   "id": "2bdf94ed",
   "metadata": {},
   "source": [
    "# Question 14"
   ]
  },
  {
   "cell_type": "markdown",
   "id": "b124f6a0",
   "metadata": {},
   "source": [
    " 14. How do you type a tuple value that only contains the integer 42?"
   ]
  },
  {
   "cell_type": "code",
   "execution_count": 7,
   "id": "57292187",
   "metadata": {},
   "outputs": [
    {
     "data": {
      "text/plain": [
       "(42,)"
      ]
     },
     "execution_count": 7,
     "metadata": {},
     "output_type": "execute_result"
    }
   ],
   "source": [
    "(42,) #  tuple elements have tobe seperated by comma"
   ]
  },
  {
   "cell_type": "markdown",
   "id": "ac0bc8c8",
   "metadata": {},
   "source": [
    "# Question 15"
   ]
  },
  {
   "cell_type": "code",
   "execution_count": null,
   "id": "8a520a8f",
   "metadata": {},
   "outputs": [],
   "source": [
    "15. How do you get a list value tuple form? How do you get a tuple value list form?"
   ]
  },
  {
   "cell_type": "markdown",
   "id": "5c5f4cd5",
   "metadata": {},
   "source": [
    "- list value tuple form  = tuple()\n",
    "- tuple value from list  = list()\n"
   ]
  },
  {
   "cell_type": "markdown",
   "id": "9c7aace4",
   "metadata": {},
   "source": [
    "# Question 16"
   ]
  },
  {
   "cell_type": "markdown",
   "id": "111bded2",
   "metadata": {},
   "source": [
    "16. Variables that \"contain\" list values are not necessarily lists themselves. Instead, what do they\n",
    "contain?"
   ]
  },
  {
   "cell_type": "markdown",
   "id": "38544339",
   "metadata": {},
   "source": [
    "- It holds the reference towords the memmory location which contains the actual value of list elements"
   ]
  },
  {
   "cell_type": "markdown",
   "id": "4051ce4d",
   "metadata": {},
   "source": [
    "# Question 17"
   ]
  },
  {
   "cell_type": "markdown",
   "id": "368a0db0",
   "metadata": {},
   "source": [
    "17. How do you distinguish between copy.copy() and copy.deepcopy()?"
   ]
  },
  {
   "cell_type": "markdown",
   "id": "7af17fae",
   "metadata": {},
   "source": [
    "- The copy.copy() function will do a shallow copy of a list, a shallow copy creates a new object but references the same\n",
    "  elements as the original object\n",
    "\n",
    "- The copy.deepcopy() function will do a deep copy of a list,it create a seperate copy of all nested objects\n"
   ]
  }
 ],
 "metadata": {
  "kernelspec": {
   "display_name": "Python 3 (ipykernel)",
   "language": "python",
   "name": "python3"
  },
  "language_info": {
   "codemirror_mode": {
    "name": "ipython",
    "version": 3
   },
   "file_extension": ".py",
   "mimetype": "text/x-python",
   "name": "python",
   "nbconvert_exporter": "python",
   "pygments_lexer": "ipython3",
   "version": "3.10.9"
  }
 },
 "nbformat": 4,
 "nbformat_minor": 5
}
